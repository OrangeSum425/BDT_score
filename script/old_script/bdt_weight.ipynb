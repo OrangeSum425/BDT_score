{
 "cells": [
  {
   "cell_type": "code",
   "execution_count": 1,
   "metadata": {},
   "outputs": [],
   "source": [
    "import numpy as np\n",
    "import matplotlib.pyplot as plt\n",
    "import pandas as pd\n",
    "import gzip\n",
    "import pickle"
   ]
  },
  {
   "cell_type": "code",
   "execution_count": null,
   "metadata": {},
   "outputs": [],
   "source": [
    "df = pd.read_pickle(\"E:/run1_NuMI_CV_high_stats_score.pkl\")\n",
    "weight_PPFX=df.iloc[:,8]\n",
    "weight_GENIE=df.iloc[:,9]\n",
    "weight_Reint=df.iloc[:,10]\n",
    "cv=df.iloc[:,13]\n",
    "PPFX=np.array(weight_PPFX)/1000\n",
    "GENIE=np.array(weight_GENIE)/1000\n",
    "Reint=np.array(weight_Reint)/1000\n",
    "cv=cv.tolist()\n",
    "PPFX"
   ]
  },
  {
   "cell_type": "code",
   "execution_count": null,
   "metadata": {},
   "outputs": [],
   "source": [
    "plt.figure(figsize=(10,7))\n",
    "plt.yscale('log')\n",
    "plt.xlabel('BDT score')\n",
    "plt.ylabel(r'Events')\n",
    "plt.xlim(0.,1)\n",
    "#plt.ylim(0.1,10000.)\n",
    "plt.title('Run1 BDT score high stat')\n",
    "cv=np.array(cv)\n",
    "(counts_std, bins_std) = np.histogram(cv, bins=np.linspace(0,1,11))\n",
    "i=0\n",
    "if i <600:\n",
    "    weight=[]\n",
    "    PPFX_w=[]\n",
    "    for we in PPFX:\n",
    "        for w in we:\n",
    "            wei=we[i]\n",
    "            weight.append(wei)\n",
    "        PPFX_w.append(weight)\n",
    "    PPFX_w=PPFX_w*cv\n",
    "    (counts_we, bins_we) = np.histogram(PPFX_w, bins=np.linspace(0,1,11))\n",
    "    plt.hist(bins_we[:-1], bins_we, weights=counts_we ,alpha=0.75, histtype='step',color='blue',lw=1)\n",
    "    i+=1\n",
    "plt.hist(bins_std[:-1], bins_std, weights=counts_std ,alpha=0.75, histtype='step',label='CV',color='k',lw=2)\n",
    "\n",
    "plt.legend()\n",
    "plt.show()"
   ]
  }
 ],
 "metadata": {
  "kernelspec": {
   "display_name": "Python 3",
   "language": "python",
   "name": "python3"
  },
  "language_info": {
   "codemirror_mode": {
    "name": "ipython",
    "version": 3
   },
   "file_extension": ".py",
   "mimetype": "text/x-python",
   "name": "python",
   "nbconvert_exporter": "python",
   "pygments_lexer": "ipython3",
   "version": "3.10.7"
  },
  "orig_nbformat": 4,
  "vscode": {
   "interpreter": {
    "hash": "46cdffcc58d91018f14844fc386a0037dbb58705246bdb6354ec5bc22c6f5a53"
   }
  }
 },
 "nbformat": 4,
 "nbformat_minor": 2
}
